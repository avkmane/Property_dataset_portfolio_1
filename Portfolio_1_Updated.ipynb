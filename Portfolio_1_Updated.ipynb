{
  "nbformat": 4,
  "nbformat_minor": 0,
  "metadata": {
    "colab": {
      "provenance": [],
      "collapsed_sections": [
        "kLVbWt3qpwho",
        "LmjMDEVehaKb",
        "HTDZhZiShyqU",
        "l4uOpeSNh5dh",
        "sScqiMc7jMtf",
        "Xz5Q9xmVjXu5"
      ]
    },
    "kernelspec": {
      "name": "python3",
      "display_name": "Python 3"
    },
    "language_info": {
      "name": "python"
    }
  },
  "cells": [
    {
      "cell_type": "markdown",
      "source": [
        "# Linear Regression on Property Dataset\n",
        "This notebook performs multiple linear regression on a property dataset using PySpark and tests all combinations of 4 features to find the best predictive model.  \n",
        "You will:\n",
        "- Load and clean the dataset\n",
        "- Train regression models for different feature combinations\n",
        "- Evaluate using MSE, RMSE, and R²\n",
        "- Identify the best-performing feature set\n"
      ],
      "metadata": {
        "id": "cZoRN2xchLhF"
      }
    },
    {
      "cell_type": "markdown",
      "source": [
        "## Install and Setup PySpark"
      ],
      "metadata": {
        "id": "kLVbWt3qpwho"
      }
    },
    {
      "cell_type": "code",
      "source": [
        "# Install PySpark\n",
        "!pip install pyspark"
      ],
      "metadata": {
        "colab": {
          "base_uri": "https://localhost:8080/"
        },
        "id": "ZtIUJZ4JhNFH",
        "outputId": "0c48c07a-8b04-4dc1-ca44-1aea09d316cb"
      },
      "execution_count": 2,
      "outputs": [
        {
          "output_type": "stream",
          "name": "stdout",
          "text": [
            "Requirement already satisfied: pyspark in /usr/local/lib/python3.11/dist-packages (3.5.1)\n",
            "Requirement already satisfied: py4j==0.10.9.7 in /usr/local/lib/python3.11/dist-packages (from pyspark) (0.10.9.7)\n"
          ]
        }
      ]
    },
    {
      "cell_type": "code",
      "source": [
        "# Setup SparkSession\n",
        "from pyspark.sql import SparkSession\n",
        "import psutil\n",
        "\n",
        "spark = SparkSession.builder \\\n",
        "    .appName(\"LinearRegression_spark\") \\\n",
        "    .master(\"local[*]\") \\\n",
        "    .config(\"spark.executor.memory\", \"4g\") \\\n",
        "    .config(\"spark.driver.memory\", \"2g\") \\\n",
        "    .config(\"spark.executor.cores\", \"2\") \\\n",
        "    .config(\"spark.sql.inMemoryColumnarStorage.compressed\", \"true\") \\\n",
        "    .getOrCreate()\n",
        "\n",
        "print(f\"Spark UI available at: {spark.sparkContext.uiWebUrl}\")\n",
        "spark.sparkContext.setLogLevel(\"INFO\")\n",
        "\n",
        "# Monitor Resources\n",
        "print(f\"CPU Usage: {psutil.cpu_percent()}%\")\n",
        "print(f\"Memory Usage: {psutil.virtual_memory().percent}%\")\n"
      ],
      "metadata": {
        "colab": {
          "base_uri": "https://localhost:8080/"
        },
        "id": "riwQjukyhQ2C",
        "outputId": "4a8a0fb2-6d1f-40c0-83b9-cb51f6ad46c5"
      },
      "execution_count": 3,
      "outputs": [
        {
          "output_type": "stream",
          "name": "stdout",
          "text": [
            "Spark UI available at: http://21feee59f7d0:4040\n",
            "CPU Usage: 47.1%\n",
            "Memory Usage: 16.9%\n"
          ]
        }
      ]
    },
    {
      "cell_type": "markdown",
      "source": [
        "## Load Dataset\n",
        "We load the property data from Google Drive and check its structure and completeness.\n"
      ],
      "metadata": {
        "id": "LmjMDEVehaKb"
      }
    },
    {
      "cell_type": "code",
      "source": [
        "# Mount Google Drive\n",
        "from google.colab import drive\n",
        "drive.mount('/content/drive')"
      ],
      "metadata": {
        "colab": {
          "base_uri": "https://localhost:8080/"
        },
        "id": "fTfRK_HJhc2U",
        "outputId": "5d063baf-acd8-496c-9c36-8fcc05aa9751"
      },
      "execution_count": 4,
      "outputs": [
        {
          "output_type": "stream",
          "name": "stdout",
          "text": [
            "Drive already mounted at /content/drive; to attempt to forcibly remount, call drive.mount(\"/content/drive\", force_remount=True).\n"
          ]
        }
      ]
    },
    {
      "cell_type": "code",
      "source": [
        "# Load property dataset\n",
        "df = spark.read.csv(\"/content/property.csv\", header=True, inferSchema=True)\n",
        "df.show(5)\n",
        "print(\"Total Records:\", df.count())\n",
        "print(\"Total Partitions:\", df.rdd.getNumPartitions())\n",
        "df.printSchema()\n"
      ],
      "metadata": {
        "colab": {
          "base_uri": "https://localhost:8080/"
        },
        "id": "3a_SU5N-hgbs",
        "outputId": "355f68f3-968d-4e00-b91a-d7a1de8064e1"
      },
      "execution_count": 6,
      "outputs": [
        {
          "output_type": "stream",
          "name": "stdout",
          "text": [
            "+--------------+------------+-------------+----------+--------+------------------+\n",
            "|Square_Footage|Num_Bedrooms|Num_Bathrooms|Year_Built|Lot_Size|             Price|\n",
            "+--------------+------------+-------------+----------+--------+------------------+\n",
            "|          1360|           2|            3|      1953|    7860| 303948.1373854071|\n",
            "|          4272|           3|            3|      1997|    5292| 860386.2685075302|\n",
            "|          3592|           4|            1|      1983|    9723| 734389.7538956215|\n",
            "|           966|           6|            1|      1903|    4086| 226448.8070714377|\n",
            "|          4926|           6|            4|      1944|    1081|1022486.2616704078|\n",
            "+--------------+------------+-------------+----------+--------+------------------+\n",
            "only showing top 5 rows\n",
            "\n",
            "Total Records: 1000000\n",
            "Total Partitions: 2\n",
            "root\n",
            " |-- Square_Footage: integer (nullable = true)\n",
            " |-- Num_Bedrooms: integer (nullable = true)\n",
            " |-- Num_Bathrooms: integer (nullable = true)\n",
            " |-- Year_Built: integer (nullable = true)\n",
            " |-- Lot_Size: integer (nullable = true)\n",
            " |-- Price: double (nullable = true)\n",
            "\n"
          ]
        }
      ]
    },
    {
      "cell_type": "code",
      "source": [
        "# Summary & null check\n",
        "df.describe().show()\n",
        "\n",
        "from pyspark.sql.functions import col, isnan, when, count\n",
        "df.select([count(when(isnan(c) | col(c).isNull(), c)).alias(c) for c in df.columns]).show()\n"
      ],
      "metadata": {
        "colab": {
          "base_uri": "https://localhost:8080/"
        },
        "id": "hCH6I-N7hvq0",
        "outputId": "61359ab3-69a4-4c58-f69b-d7f40d46e3e7"
      },
      "execution_count": 7,
      "outputs": [
        {
          "output_type": "stream",
          "name": "stdout",
          "text": [
            "+-------+-----------------+-----------------+------------------+-----------------+-----------------+------------------+\n",
            "|summary|   Square_Footage|     Num_Bedrooms|     Num_Bathrooms|       Year_Built|         Lot_Size|             Price|\n",
            "+-------+-----------------+-----------------+------------------+-----------------+-----------------+------------------+\n",
            "|  count|          1000000|          1000000|           1000000|          1000000|          1000000|           1000000|\n",
            "|   mean|      2750.657104|         3.501114|          2.500439|       1960.52736|      5502.373911| 581839.6653163614|\n",
            "| stddev|1298.569362387213|1.708173784151257|1.1178528780094728|35.21780350510348|2598.885882999355|260685.36722644986|\n",
            "|    min|              500|                1|                 1|             1900|             1000| 51495.71116919513|\n",
            "|    max|             4999|                6|                 4|             2021|             9999|1123219.4691521737|\n",
            "+-------+-----------------+-----------------+------------------+-----------------+-----------------+------------------+\n",
            "\n",
            "+--------------+------------+-------------+----------+--------+-----+\n",
            "|Square_Footage|Num_Bedrooms|Num_Bathrooms|Year_Built|Lot_Size|Price|\n",
            "+--------------+------------+-------------+----------+--------+-----+\n",
            "|             0|           0|            0|         0|       0|    0|\n",
            "+--------------+------------+-------------+----------+--------+-----+\n",
            "\n"
          ]
        }
      ]
    },
    {
      "cell_type": "markdown",
      "source": [
        "## Split the Dataset\n",
        "We split the dataset into training (70%) and testing (30%) for evaluation.\n"
      ],
      "metadata": {
        "id": "HTDZhZiShyqU"
      }
    },
    {
      "cell_type": "code",
      "source": [
        "data_train, data_test = df.randomSplit([0.7, 0.3], seed=123)\n"
      ],
      "metadata": {
        "id": "O0nT5Uglh0Vx"
      },
      "execution_count": 8,
      "outputs": []
    },
    {
      "cell_type": "markdown",
      "source": [
        "## Run Regression on All 4-Feature Combinations\n",
        "We automatically try every combination of 4 features from 5 possible options and evaluate their performance using MSE, RMSE, and R².\n"
      ],
      "metadata": {
        "id": "l4uOpeSNh5dh"
      }
    },
    {
      "cell_type": "code",
      "source": [
        "from itertools import combinations\n",
        "from pyspark.ml import Pipeline\n",
        "from pyspark.ml.feature import VectorAssembler, StandardScaler\n",
        "from pyspark.ml.regression import LinearRegression\n",
        "from pyspark.ml.evaluation import RegressionEvaluator\n",
        "import pandas as pd\n",
        "\n",
        "# Define feature set\n",
        "all_features = [\"Square_Footage\", \"Num_Bedrooms\", \"Num_Bathrooms\", \"Year_Built\", \"Lot_Size\"]\n",
        "results = []\n",
        "\n",
        "# Loop through all 4-feature combinations\n",
        "for i, feature_set in enumerate(combinations(all_features, 4), start=1):\n",
        "    print(f\"\\n Combination {i}: {', '.join(feature_set)}\")\n",
        "    print(\"---------------------------------------------------------------------\")\n",
        "\n",
        "    # Assemble and scale\n",
        "    assembler = VectorAssembler(inputCols=list(feature_set), outputCol=\"features\")\n",
        "    scaler = StandardScaler(inputCol=\"features\", outputCol=\"scaled_Features\")\n",
        "    regressor = LinearRegression(labelCol='Price', featuresCol='scaled_Features')\n",
        "\n",
        "    # Pipeline\n",
        "    pipeline = Pipeline(stages=[assembler, scaler, regressor])\n",
        "\n",
        "    # Fit on training data\n",
        "    model = pipeline.fit(data_train)\n",
        "\n",
        "    # Predictions\n",
        "    train_predictions = model.transform(data_train)\n",
        "    test_predictions = model.transform(data_test)\n",
        "\n",
        "    # Evaluators\n",
        "    evaluator_r2 = RegressionEvaluator(labelCol='Price', predictionCol='prediction', metricName='r2')\n",
        "    evaluator_mse = RegressionEvaluator(labelCol='Price', predictionCol='prediction', metricName='mse')\n",
        "    evaluator_rmse = RegressionEvaluator(labelCol='Price', predictionCol='prediction', metricName='rmse')\n",
        "\n",
        "    # Metrics\n",
        "    train_r2 = evaluator_r2.evaluate(train_predictions)\n",
        "    test_r2 = evaluator_r2.evaluate(test_predictions)\n",
        "    mse = evaluator_mse.evaluate(test_predictions)\n",
        "    rmse = evaluator_rmse.evaluate(test_predictions)\n",
        "\n",
        "    # Print for each iteration\n",
        "    print(f\"Train R² Score: {round(train_r2, 4)}\")\n",
        "    print(f\"Test R² Score:  {round(test_r2, 4)}\")\n",
        "    print(f\"MSE (Test):     {round(mse, 2)}\")\n",
        "    print(f\"RMSE (Test):    {round(rmse, 2)}\")\n",
        "\n",
        "    # Save to results\n",
        "    results.append({\n",
        "        \"Features\": \", \".join(feature_set),\n",
        "        \"Train R2\": round(train_r2, 4),\n",
        "        \"Test R2\": round(test_r2, 4),\n",
        "        \"MSE (Test)\": round(mse, 2),\n",
        "        \"RMSE (Test)\": round(rmse, 2)\n",
        "    })\n",
        "\n",
        "# Final summary table\n",
        "results_df = pd.DataFrame(results).sort_values(by=\"Test R2\", ascending=False).reset_index(drop=True)\n",
        "\n",
        "print(\"\\n All combinations completed. Final summary table:\")\n",
        "results_df.head()  # You can use display() in Colab to render nicely\n"
      ],
      "metadata": {
        "colab": {
          "base_uri": "https://localhost:8080/",
          "height": 877
        },
        "id": "poNNtBsynN_l",
        "outputId": "e2d31fa2-e537-4d5a-8fdc-6b53d2ffa03f"
      },
      "execution_count": 17,
      "outputs": [
        {
          "output_type": "stream",
          "name": "stdout",
          "text": [
            "\n",
            " Combination 1: Square_Footage, Num_Bedrooms, Num_Bathrooms, Year_Built\n",
            "---------------------------------------------------------------------\n",
            "Train R² Score: 0.9941\n",
            "Test R² Score:  0.9941\n",
            "MSE (Test):     397960542.4\n",
            "RMSE (Test):    19948.95\n",
            "\n",
            " Combination 2: Square_Footage, Num_Bedrooms, Num_Bathrooms, Lot_Size\n",
            "---------------------------------------------------------------------\n",
            "Train R² Score: 0.9939\n",
            "Test R² Score:  0.994\n",
            "MSE (Test):     410447639.36\n",
            "RMSE (Test):    20259.51\n",
            "\n",
            " Combination 3: Square_Footage, Num_Bedrooms, Year_Built, Lot_Size\n",
            "---------------------------------------------------------------------\n",
            "Train R² Score: 0.9939\n",
            "Test R² Score:  0.994\n",
            "MSE (Test):     409235722.31\n",
            "RMSE (Test):    20229.58\n",
            "\n",
            " Combination 4: Square_Footage, Num_Bathrooms, Year_Built, Lot_Size\n",
            "---------------------------------------------------------------------\n",
            "Train R² Score: 0.993\n",
            "Test R² Score:  0.9931\n",
            "MSE (Test):     471222798.76\n",
            "RMSE (Test):    21707.67\n",
            "\n",
            " Combination 5: Num_Bedrooms, Num_Bathrooms, Year_Built, Lot_Size\n",
            "---------------------------------------------------------------------\n",
            "Train R² Score: 0.0015\n",
            "Test R² Score:  0.0016\n",
            "MSE (Test):     67858333913.41\n",
            "RMSE (Test):    260496.32\n",
            "\n",
            " All combinations completed. Final summary table:\n"
          ]
        },
        {
          "output_type": "execute_result",
          "data": {
            "text/plain": [
              "                                            Features  Train R2  Test R2  \\\n",
              "0  Square_Footage, Num_Bedrooms, Num_Bathrooms, Y...    0.9941   0.9941   \n",
              "1  Square_Footage, Num_Bedrooms, Num_Bathrooms, L...    0.9939   0.9940   \n",
              "2  Square_Footage, Num_Bedrooms, Year_Built, Lot_...    0.9939   0.9940   \n",
              "3  Square_Footage, Num_Bathrooms, Year_Built, Lot...    0.9930   0.9931   \n",
              "4  Num_Bedrooms, Num_Bathrooms, Year_Built, Lot_Size    0.0015   0.0016   \n",
              "\n",
              "     MSE (Test)  RMSE (Test)  \n",
              "0  3.979605e+08     19948.95  \n",
              "1  4.104476e+08     20259.51  \n",
              "2  4.092357e+08     20229.58  \n",
              "3  4.712228e+08     21707.67  \n",
              "4  6.785833e+10    260496.32  "
            ],
            "text/html": [
              "\n",
              "  <div id=\"df-4c6c6580-9624-495f-96af-2fc4be99ca37\" class=\"colab-df-container\">\n",
              "    <div>\n",
              "<style scoped>\n",
              "    .dataframe tbody tr th:only-of-type {\n",
              "        vertical-align: middle;\n",
              "    }\n",
              "\n",
              "    .dataframe tbody tr th {\n",
              "        vertical-align: top;\n",
              "    }\n",
              "\n",
              "    .dataframe thead th {\n",
              "        text-align: right;\n",
              "    }\n",
              "</style>\n",
              "<table border=\"1\" class=\"dataframe\">\n",
              "  <thead>\n",
              "    <tr style=\"text-align: right;\">\n",
              "      <th></th>\n",
              "      <th>Features</th>\n",
              "      <th>Train R2</th>\n",
              "      <th>Test R2</th>\n",
              "      <th>MSE (Test)</th>\n",
              "      <th>RMSE (Test)</th>\n",
              "    </tr>\n",
              "  </thead>\n",
              "  <tbody>\n",
              "    <tr>\n",
              "      <th>0</th>\n",
              "      <td>Square_Footage, Num_Bedrooms, Num_Bathrooms, Y...</td>\n",
              "      <td>0.9941</td>\n",
              "      <td>0.9941</td>\n",
              "      <td>3.979605e+08</td>\n",
              "      <td>19948.95</td>\n",
              "    </tr>\n",
              "    <tr>\n",
              "      <th>1</th>\n",
              "      <td>Square_Footage, Num_Bedrooms, Num_Bathrooms, L...</td>\n",
              "      <td>0.9939</td>\n",
              "      <td>0.9940</td>\n",
              "      <td>4.104476e+08</td>\n",
              "      <td>20259.51</td>\n",
              "    </tr>\n",
              "    <tr>\n",
              "      <th>2</th>\n",
              "      <td>Square_Footage, Num_Bedrooms, Year_Built, Lot_...</td>\n",
              "      <td>0.9939</td>\n",
              "      <td>0.9940</td>\n",
              "      <td>4.092357e+08</td>\n",
              "      <td>20229.58</td>\n",
              "    </tr>\n",
              "    <tr>\n",
              "      <th>3</th>\n",
              "      <td>Square_Footage, Num_Bathrooms, Year_Built, Lot...</td>\n",
              "      <td>0.9930</td>\n",
              "      <td>0.9931</td>\n",
              "      <td>4.712228e+08</td>\n",
              "      <td>21707.67</td>\n",
              "    </tr>\n",
              "    <tr>\n",
              "      <th>4</th>\n",
              "      <td>Num_Bedrooms, Num_Bathrooms, Year_Built, Lot_Size</td>\n",
              "      <td>0.0015</td>\n",
              "      <td>0.0016</td>\n",
              "      <td>6.785833e+10</td>\n",
              "      <td>260496.32</td>\n",
              "    </tr>\n",
              "  </tbody>\n",
              "</table>\n",
              "</div>\n",
              "    <div class=\"colab-df-buttons\">\n",
              "\n",
              "  <div class=\"colab-df-container\">\n",
              "    <button class=\"colab-df-convert\" onclick=\"convertToInteractive('df-4c6c6580-9624-495f-96af-2fc4be99ca37')\"\n",
              "            title=\"Convert this dataframe to an interactive table.\"\n",
              "            style=\"display:none;\">\n",
              "\n",
              "  <svg xmlns=\"http://www.w3.org/2000/svg\" height=\"24px\" viewBox=\"0 -960 960 960\">\n",
              "    <path d=\"M120-120v-720h720v720H120Zm60-500h600v-160H180v160Zm220 220h160v-160H400v160Zm0 220h160v-160H400v160ZM180-400h160v-160H180v160Zm440 0h160v-160H620v160ZM180-180h160v-160H180v160Zm440 0h160v-160H620v160Z\"/>\n",
              "  </svg>\n",
              "    </button>\n",
              "\n",
              "  <style>\n",
              "    .colab-df-container {\n",
              "      display:flex;\n",
              "      gap: 12px;\n",
              "    }\n",
              "\n",
              "    .colab-df-convert {\n",
              "      background-color: #E8F0FE;\n",
              "      border: none;\n",
              "      border-radius: 50%;\n",
              "      cursor: pointer;\n",
              "      display: none;\n",
              "      fill: #1967D2;\n",
              "      height: 32px;\n",
              "      padding: 0 0 0 0;\n",
              "      width: 32px;\n",
              "    }\n",
              "\n",
              "    .colab-df-convert:hover {\n",
              "      background-color: #E2EBFA;\n",
              "      box-shadow: 0px 1px 2px rgba(60, 64, 67, 0.3), 0px 1px 3px 1px rgba(60, 64, 67, 0.15);\n",
              "      fill: #174EA6;\n",
              "    }\n",
              "\n",
              "    .colab-df-buttons div {\n",
              "      margin-bottom: 4px;\n",
              "    }\n",
              "\n",
              "    [theme=dark] .colab-df-convert {\n",
              "      background-color: #3B4455;\n",
              "      fill: #D2E3FC;\n",
              "    }\n",
              "\n",
              "    [theme=dark] .colab-df-convert:hover {\n",
              "      background-color: #434B5C;\n",
              "      box-shadow: 0px 1px 3px 1px rgba(0, 0, 0, 0.15);\n",
              "      filter: drop-shadow(0px 1px 2px rgba(0, 0, 0, 0.3));\n",
              "      fill: #FFFFFF;\n",
              "    }\n",
              "  </style>\n",
              "\n",
              "    <script>\n",
              "      const buttonEl =\n",
              "        document.querySelector('#df-4c6c6580-9624-495f-96af-2fc4be99ca37 button.colab-df-convert');\n",
              "      buttonEl.style.display =\n",
              "        google.colab.kernel.accessAllowed ? 'block' : 'none';\n",
              "\n",
              "      async function convertToInteractive(key) {\n",
              "        const element = document.querySelector('#df-4c6c6580-9624-495f-96af-2fc4be99ca37');\n",
              "        const dataTable =\n",
              "          await google.colab.kernel.invokeFunction('convertToInteractive',\n",
              "                                                    [key], {});\n",
              "        if (!dataTable) return;\n",
              "\n",
              "        const docLinkHtml = 'Like what you see? Visit the ' +\n",
              "          '<a target=\"_blank\" href=https://colab.research.google.com/notebooks/data_table.ipynb>data table notebook</a>'\n",
              "          + ' to learn more about interactive tables.';\n",
              "        element.innerHTML = '';\n",
              "        dataTable['output_type'] = 'display_data';\n",
              "        await google.colab.output.renderOutput(dataTable, element);\n",
              "        const docLink = document.createElement('div');\n",
              "        docLink.innerHTML = docLinkHtml;\n",
              "        element.appendChild(docLink);\n",
              "      }\n",
              "    </script>\n",
              "  </div>\n",
              "\n",
              "\n",
              "    <div id=\"df-614b7643-4e35-41f2-9fb3-66b5dbc46187\">\n",
              "      <button class=\"colab-df-quickchart\" onclick=\"quickchart('df-614b7643-4e35-41f2-9fb3-66b5dbc46187')\"\n",
              "                title=\"Suggest charts\"\n",
              "                style=\"display:none;\">\n",
              "\n",
              "<svg xmlns=\"http://www.w3.org/2000/svg\" height=\"24px\"viewBox=\"0 0 24 24\"\n",
              "     width=\"24px\">\n",
              "    <g>\n",
              "        <path d=\"M19 3H5c-1.1 0-2 .9-2 2v14c0 1.1.9 2 2 2h14c1.1 0 2-.9 2-2V5c0-1.1-.9-2-2-2zM9 17H7v-7h2v7zm4 0h-2V7h2v10zm4 0h-2v-4h2v4z\"/>\n",
              "    </g>\n",
              "</svg>\n",
              "      </button>\n",
              "\n",
              "<style>\n",
              "  .colab-df-quickchart {\n",
              "      --bg-color: #E8F0FE;\n",
              "      --fill-color: #1967D2;\n",
              "      --hover-bg-color: #E2EBFA;\n",
              "      --hover-fill-color: #174EA6;\n",
              "      --disabled-fill-color: #AAA;\n",
              "      --disabled-bg-color: #DDD;\n",
              "  }\n",
              "\n",
              "  [theme=dark] .colab-df-quickchart {\n",
              "      --bg-color: #3B4455;\n",
              "      --fill-color: #D2E3FC;\n",
              "      --hover-bg-color: #434B5C;\n",
              "      --hover-fill-color: #FFFFFF;\n",
              "      --disabled-bg-color: #3B4455;\n",
              "      --disabled-fill-color: #666;\n",
              "  }\n",
              "\n",
              "  .colab-df-quickchart {\n",
              "    background-color: var(--bg-color);\n",
              "    border: none;\n",
              "    border-radius: 50%;\n",
              "    cursor: pointer;\n",
              "    display: none;\n",
              "    fill: var(--fill-color);\n",
              "    height: 32px;\n",
              "    padding: 0;\n",
              "    width: 32px;\n",
              "  }\n",
              "\n",
              "  .colab-df-quickchart:hover {\n",
              "    background-color: var(--hover-bg-color);\n",
              "    box-shadow: 0 1px 2px rgba(60, 64, 67, 0.3), 0 1px 3px 1px rgba(60, 64, 67, 0.15);\n",
              "    fill: var(--button-hover-fill-color);\n",
              "  }\n",
              "\n",
              "  .colab-df-quickchart-complete:disabled,\n",
              "  .colab-df-quickchart-complete:disabled:hover {\n",
              "    background-color: var(--disabled-bg-color);\n",
              "    fill: var(--disabled-fill-color);\n",
              "    box-shadow: none;\n",
              "  }\n",
              "\n",
              "  .colab-df-spinner {\n",
              "    border: 2px solid var(--fill-color);\n",
              "    border-color: transparent;\n",
              "    border-bottom-color: var(--fill-color);\n",
              "    animation:\n",
              "      spin 1s steps(1) infinite;\n",
              "  }\n",
              "\n",
              "  @keyframes spin {\n",
              "    0% {\n",
              "      border-color: transparent;\n",
              "      border-bottom-color: var(--fill-color);\n",
              "      border-left-color: var(--fill-color);\n",
              "    }\n",
              "    20% {\n",
              "      border-color: transparent;\n",
              "      border-left-color: var(--fill-color);\n",
              "      border-top-color: var(--fill-color);\n",
              "    }\n",
              "    30% {\n",
              "      border-color: transparent;\n",
              "      border-left-color: var(--fill-color);\n",
              "      border-top-color: var(--fill-color);\n",
              "      border-right-color: var(--fill-color);\n",
              "    }\n",
              "    40% {\n",
              "      border-color: transparent;\n",
              "      border-right-color: var(--fill-color);\n",
              "      border-top-color: var(--fill-color);\n",
              "    }\n",
              "    60% {\n",
              "      border-color: transparent;\n",
              "      border-right-color: var(--fill-color);\n",
              "    }\n",
              "    80% {\n",
              "      border-color: transparent;\n",
              "      border-right-color: var(--fill-color);\n",
              "      border-bottom-color: var(--fill-color);\n",
              "    }\n",
              "    90% {\n",
              "      border-color: transparent;\n",
              "      border-bottom-color: var(--fill-color);\n",
              "    }\n",
              "  }\n",
              "</style>\n",
              "\n",
              "      <script>\n",
              "        async function quickchart(key) {\n",
              "          const quickchartButtonEl =\n",
              "            document.querySelector('#' + key + ' button');\n",
              "          quickchartButtonEl.disabled = true;  // To prevent multiple clicks.\n",
              "          quickchartButtonEl.classList.add('colab-df-spinner');\n",
              "          try {\n",
              "            const charts = await google.colab.kernel.invokeFunction(\n",
              "                'suggestCharts', [key], {});\n",
              "          } catch (error) {\n",
              "            console.error('Error during call to suggestCharts:', error);\n",
              "          }\n",
              "          quickchartButtonEl.classList.remove('colab-df-spinner');\n",
              "          quickchartButtonEl.classList.add('colab-df-quickchart-complete');\n",
              "        }\n",
              "        (() => {\n",
              "          let quickchartButtonEl =\n",
              "            document.querySelector('#df-614b7643-4e35-41f2-9fb3-66b5dbc46187 button');\n",
              "          quickchartButtonEl.style.display =\n",
              "            google.colab.kernel.accessAllowed ? 'block' : 'none';\n",
              "        })();\n",
              "      </script>\n",
              "    </div>\n",
              "\n",
              "    </div>\n",
              "  </div>\n"
            ],
            "application/vnd.google.colaboratory.intrinsic+json": {
              "type": "dataframe",
              "variable_name": "results_df",
              "summary": "{\n  \"name\": \"results_df\",\n  \"rows\": 5,\n  \"fields\": [\n    {\n      \"column\": \"Features\",\n      \"properties\": {\n        \"dtype\": \"string\",\n        \"num_unique_values\": 5,\n        \"samples\": [\n          \"Square_Footage, Num_Bedrooms, Num_Bathrooms, Lot_Size\",\n          \"Num_Bedrooms, Num_Bathrooms, Year_Built, Lot_Size\",\n          \"Square_Footage, Num_Bedrooms, Year_Built, Lot_Size\"\n        ],\n        \"semantic_type\": \"\",\n        \"description\": \"\"\n      }\n    },\n    {\n      \"column\": \"Train R2\",\n      \"properties\": {\n        \"dtype\": \"number\",\n        \"std\": 0.4437367147307061,\n        \"min\": 0.0015,\n        \"max\": 0.9941,\n        \"num_unique_values\": 4,\n        \"samples\": [\n          0.9939,\n          0.0015,\n          0.9941\n        ],\n        \"semantic_type\": \"\",\n        \"description\": \"\"\n      }\n    },\n    {\n      \"column\": \"Test R2\",\n      \"properties\": {\n        \"dtype\": \"number\",\n        \"std\": 0.4437255153808489,\n        \"min\": 0.0016,\n        \"max\": 0.9941,\n        \"num_unique_values\": 4,\n        \"samples\": [\n          0.994,\n          0.0016,\n          0.9941\n        ],\n        \"semantic_type\": \"\",\n        \"description\": \"\"\n      }\n    },\n    {\n      \"column\": \"MSE (Test)\",\n      \"properties\": {\n        \"dtype\": \"number\",\n        \"std\": 30158362121.695175,\n        \"min\": 397960542.4,\n        \"max\": 67858333913.41,\n        \"num_unique_values\": 5,\n        \"samples\": [\n          410447639.36,\n          67858333913.41,\n          409235722.31\n        ],\n        \"semantic_type\": \"\",\n        \"description\": \"\"\n      }\n    },\n    {\n      \"column\": \"RMSE (Test)\",\n      \"properties\": {\n        \"dtype\": \"number\",\n        \"std\": 107315.52518669667,\n        \"min\": 19948.95,\n        \"max\": 260496.32,\n        \"num_unique_values\": 5,\n        \"samples\": [\n          20259.51,\n          260496.32,\n          20229.58\n        ],\n        \"semantic_type\": \"\",\n        \"description\": \"\"\n      }\n    }\n  ]\n}"
            }
          },
          "metadata": {},
          "execution_count": 17
        }
      ]
    },
    {
      "cell_type": "markdown",
      "source": [
        "_______________________________________________________________________\n"
      ],
      "metadata": {
        "id": "lYylfehvkZz2"
      }
    },
    {
      "cell_type": "markdown",
      "source": [
        "## Visualize Top 3 Models\n",
        "Compare top 3 models using bar plots for MSE, RMSE, and R².\n"
      ],
      "metadata": {
        "id": "sScqiMc7jMtf"
      }
    },
    {
      "cell_type": "code",
      "source": [
        "import numpy as np\n",
        "\n",
        "top_3 = results_df.head(3)\n",
        "x = np.arange(len(top_3))\n",
        "bar_width = 0.25\n",
        "\n",
        "plt.figure(figsize=(10,6))\n",
        "plt.bar(x - bar_width, top_3['MSE (Test)'], width=bar_width, label='MSE')\n",
        "plt.bar(x, top_3['RMSE (Test)'], width=bar_width, label='RMSE')\n",
        "plt.bar(x + bar_width, top_3['Test R2'], width=bar_width, label='Test R²')\n",
        "\n",
        "plt.xticks(x, top_3['Features'], rotation=45, ha='right')\n",
        "plt.xlabel(\"Feature Combination\")\n",
        "plt.ylabel(\"Metric Value\")\n",
        "plt.title(\"🔎 Comparison of Top 3 Models\")\n",
        "plt.legend()\n",
        "plt.tight_layout()\n",
        "plt.show()\n"
      ],
      "metadata": {
        "colab": {
          "base_uri": "https://localhost:8080/",
          "height": 700
        },
        "id": "GCsgU1FTjOwf",
        "outputId": "c6c709eb-da0a-45a3-f063-774f2575289d"
      },
      "execution_count": 21,
      "outputs": [
        {
          "output_type": "stream",
          "name": "stderr",
          "text": [
            "/tmp/ipython-input-21-3869642592.py:17: UserWarning: Glyph 128270 (\\N{RIGHT-POINTING MAGNIFYING GLASS}) missing from font(s) DejaVu Sans.\n",
            "  plt.tight_layout()\n",
            "/usr/local/lib/python3.11/dist-packages/IPython/core/pylabtools.py:151: UserWarning: Glyph 128270 (\\N{RIGHT-POINTING MAGNIFYING GLASS}) missing from font(s) DejaVu Sans.\n",
            "  fig.canvas.print_figure(bytes_io, **kw)\n"
          ]
        },
        {
          "output_type": "display_data",
          "data": {
            "text/plain": [
              "<Figure size 1000x600 with 1 Axes>"
            ],
            "image/png": "[encoded data removed]"
          },
          "metadata": {}
        }
      ]
    },
    {
      "cell_type": "markdown",
      "source": [
        "## Full Results Table\n",
        "View all feature combinations and their evaluation metrics.\n"
      ],
      "metadata": {
        "id": "Xz5Q9xmVjXu5"
      }
    },
    {
      "cell_type": "code",
      "source": [
        "print(results_df.to_string(index=False))\n"
      ],
      "metadata": {
        "colab": {
          "base_uri": "https://localhost:8080/"
        },
        "id": "TNE9LTRSjY6S",
        "outputId": "132f6716-84f7-4e1d-9075-be3edba3053e"
      },
      "execution_count": 23,
      "outputs": [
        {
          "output_type": "stream",
          "name": "stdout",
          "text": [
            "                                               Features  Train R2  Test R2   MSE (Test)  RMSE (Test)\n",
            "Square_Footage, Num_Bedrooms, Num_Bathrooms, Year_Built    0.9941   0.9941 3.979605e+08     19948.95\n",
            "  Square_Footage, Num_Bedrooms, Num_Bathrooms, Lot_Size    0.9939   0.9940 4.104476e+08     20259.51\n",
            "     Square_Footage, Num_Bedrooms, Year_Built, Lot_Size    0.9939   0.9940 4.092357e+08     20229.58\n",
            "    Square_Footage, Num_Bathrooms, Year_Built, Lot_Size    0.9930   0.9931 4.712228e+08     21707.67\n",
            "      Num_Bedrooms, Num_Bathrooms, Year_Built, Lot_Size    0.0015   0.0016 6.785833e+10    260496.32\n"
          ]
        }
      ]
    }
  ]
}